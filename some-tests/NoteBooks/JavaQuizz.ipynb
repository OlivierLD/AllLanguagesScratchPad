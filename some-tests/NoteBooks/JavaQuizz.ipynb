{
 "cells": [
  {
   "cell_type": "markdown",
   "metadata": {},
   "source": [
    "# Java Quizz!\n",
    "\n",
    "#### _Subject_: Lists and Streams"
   ]
  },
  {
   "cell_type": "code",
   "execution_count": 1,
   "metadata": {},
   "outputs": [],
   "source": [
    "import java.text.NumberFormat;\n",
    "import java.util.stream.Collectors;\n",
    "import java.util.stream.DoubleStream;"
   ]
  },
  {
   "cell_type": "markdown",
   "metadata": {},
   "source": [
    "We will create a cloud of points in a 2D space.  \n",
    "Below is the bean describing a Point."
   ]
  },
  {
   "cell_type": "code",
   "execution_count": 2,
   "metadata": {},
   "outputs": [],
   "source": [
    "public static class Point {\n",
    "  double x;\n",
    "  double y;\n",
    "\n",
    "  public Point() {}\n",
    "  public Point(double x, double y) {\n",
    "     this.x = x;\n",
    "     this.y = y;\n",
    "  }\n",
    "\n",
    "  public Point x(double x) {\n",
    "     this.x = x;\n",
    "     return this;\n",
    "  }\n",
    "  public Point y(double y) {\n",
    "     this.y = y;\n",
    "     return this;\n",
    "  }\n",
    "\n",
    "  public double getX() {\n",
    "     return this.x;\n",
    "  }\n",
    "  public double getY() {\n",
    "     return this.y;\n",
    "  }\n",
    "    \n",
    "  @Override\n",
    "  public String toString() {\n",
    "     return String.format(\"x:%f, y:%f\", this.x, this.y);\n",
    "  }  \n",
    "}"
   ]
  },
  {
   "cell_type": "markdown",
   "metadata": {},
   "source": [
    "We define the dimensions of the plan the points will live in, and the number of points to deal with."
   ]
  },
  {
   "cell_type": "code",
   "execution_count": 3,
   "metadata": {},
   "outputs": [],
   "source": [
    "private final static int WIDTH = 100;\n",
    "private final static int HEIGHT = 100;\n",
    "private final static int CARDINALITY = 10_000;"
   ]
  },
  {
   "cell_type": "markdown",
   "metadata": {},
   "source": [
    "## First, we populate a List of Points with random values\n",
    "`x` &isin; `[-50, 50]`  \n",
    "`y` &isin; `[-50, 50]`"
   ]
  },
  {
   "cell_type": "code",
   "execution_count": 4,
   "metadata": {},
   "outputs": [],
   "source": [
    "List<Point> pointList = new ArrayList<>();\n",
    "\n",
    "while (pointList.size() < CARDINALITY) {\n",
    "    pointList.add(new Point(\n",
    "       (WIDTH * Math.random()) - (WIDTH / 2),\n",
    "       (HEIGHT * Math.random()) - (HEIGHT / 2)));\n",
    "}"
   ]
  },
  {
   "cell_type": "markdown",
   "metadata": {},
   "source": [
    "### _Quizz:_ How to get the min and max values, for both X and Y ?"
   ]
  },
  {
   "cell_type": "code",
   "execution_count": 5,
   "metadata": {},
   "outputs": [
    {
     "name": "stdout",
     "output_type": "stream",
     "text": [
      "On 10,000 points:\n",
      "MinX: -49.983260, MaxX: 49.989710, MinY: -49.964675, MaxY: 49.995915\n"
     ]
    },
    {
     "data": {
      "text/plain": [
       "java.io.PrintStream@1f17faf8"
      ]
     },
     "execution_count": 5,
     "metadata": {},
     "output_type": "execute_result"
    }
   ],
   "source": [
    "double minX = pointList.stream()\n",
    "      .min(Comparator.comparing(Point::getX)) // Compare on that method's output (getX). Could be anything.\n",
    "      .get()\n",
    "      .getX();\n",
    "double maxX = pointList.stream()\n",
    "      .max(Comparator.comparing(Point::getX))\n",
    "      .get()\n",
    "      .getX();\n",
    "double minY = pointList.stream()\n",
    "      .min(Comparator.comparing(Point::getY))\n",
    "      .get()\n",
    "      .getY();\n",
    "double maxY = pointList.stream()\n",
    "      .max(Comparator.comparing(Point::getY))\n",
    "      .get()\n",
    "      .getY();\n",
    "\n",
    "System.out.format(\"On %s points:%n\", NumberFormat.getInstance().format(pointList.size()));\n",
    "System.out.format(\"MinX: %f, MaxX: %f, MinY: %f, MaxY: %f%n\", minX, maxX, minY, maxY);"
   ]
  },
  {
   "cell_type": "markdown",
   "metadata": {},
   "source": [
    "### _Quizz:_ How would you calculate the position of the _AVERAGE_ point in the cloud?"
   ]
  },
  {
   "cell_type": "code",
   "execution_count": 6,
   "metadata": {},
   "outputs": [
    {
     "name": "stdout",
     "output_type": "stream",
     "text": [
      "AvgX: 0.454058, AvgY: 0.347528\n"
     ]
    },
    {
     "data": {
      "text/plain": [
       "java.io.PrintStream@1f17faf8"
      ]
     },
     "execution_count": 6,
     "metadata": {},
     "output_type": "execute_result"
    }
   ],
   "source": [
    "List<Double> xList = pointList.stream().mapToDouble(Point::getX).boxed().collect(Collectors.toList());\n",
    "List<Double> yList = pointList.stream().mapToDouble(Point::getY).boxed().collect(Collectors.toList());\n",
    "\n",
    "double averageX = pointList.stream()\n",
    "        .mapToDouble(Point::getX)\n",
    "        .average()\n",
    "        .getAsDouble();\n",
    "double averageY = pointList.stream()\n",
    "        .mapToDouble(Point::getY)\n",
    "        .average()\n",
    "        .getAsDouble();\n",
    "\n",
    "System.out.format(\"AvgX: %f, AvgY: %f%n\", averageX, averageY);"
   ]
  },
  {
   "cell_type": "markdown",
   "metadata": {},
   "source": [
    "### _Quizz:_ How would you calculate the Standard Deviation?\n",
    "See what this Standard Deviation is, in case you forgot : <https://www.mathsisfun.com/data/standard-deviation.html>"
   ]
  },
  {
   "cell_type": "code",
   "execution_count": 7,
   "metadata": {},
   "outputs": [],
   "source": [
    "private static double stdDev(List<Double> list) {\n",
    "   double mean = list.stream().mapToDouble(x -> x).average().getAsDouble();\n",
    "   double variance = list.stream().mapToDouble(x -> Math.pow(x - mean, 2)).sum() / list.size();\n",
    "   double stdDev = Math.sqrt(variance);\n",
    "   return stdDev;\n",
    "}"
   ]
  },
  {
   "cell_type": "code",
   "execution_count": 8,
   "metadata": {},
   "outputs": [
    {
     "name": "stdout",
     "output_type": "stream",
     "text": [
      "Std Dev X: 28.838782, Std Dev Y: 28.715227\n"
     ]
    },
    {
     "data": {
      "text/plain": [
       "java.io.PrintStream@1f17faf8"
      ]
     },
     "execution_count": 8,
     "metadata": {},
     "output_type": "execute_result"
    }
   ],
   "source": [
    "List<Double> xList = pointList.stream().mapToDouble(Point::getX).boxed().collect(Collectors.toList());\n",
    "List<Double> yList = pointList.stream().mapToDouble(Point::getY).boxed().collect(Collectors.toList());\n",
    "\n",
    "double stdDevX = stdDev(xList);\n",
    "double stdDevY = stdDev(yList);\n",
    "System.out.format(\"Std Dev X: %f, Std Dev Y: %f%n\", stdDevX, stdDevY);"
   ]
  },
  {
   "cell_type": "markdown",
   "metadata": {},
   "source": [
    "### _Quizz:_ Sort on X the points where X is positive, and print the first 50 values of X, in _ONE_ line of code."
   ]
  },
  {
   "cell_type": "code",
   "execution_count": 9,
   "metadata": {},
   "outputs": [
    {
     "name": "stdout",
     "output_type": "stream",
     "text": [
      "0.002979854271622173\n",
      "0.003474179547623635\n",
      "0.01305852611272229\n",
      "0.01348706437040903\n",
      "0.022276564182341474\n",
      "0.02491556079328916\n",
      "0.027162517361688288\n",
      "0.030142987634917517\n",
      "0.038303324890286206\n",
      "0.04630836954640216\n",
      "0.062093349276459264\n",
      "0.06272370259191717\n",
      "0.08316018823612126\n",
      "0.09108169046905346\n",
      "0.13717906933752033\n",
      "0.1722447423779485\n",
      "0.17753191978206928\n",
      "0.18149442224830636\n",
      "0.21773578163985974\n",
      "0.2260799392292654\n",
      "0.2416856139392891\n",
      "0.24509802153518478\n",
      "0.24793080938376733\n",
      "0.25189835074002076\n",
      "0.2614453966618058\n",
      "0.2733200421708091\n",
      "0.27439636020803704\n",
      "0.285751354477668\n",
      "0.2874057272006496\n",
      "0.28971418300001517\n",
      "0.3107728092516666\n",
      "0.3127999947303266\n",
      "0.31816190670141964\n",
      "0.3266343960283393\n",
      "0.3268337066237734\n",
      "0.32983832276657665\n",
      "0.33178565743953214\n",
      "0.3701859218873693\n",
      "0.3703343377289485\n",
      "0.37745792768082254\n",
      "0.38139907655361327\n",
      "0.3900707989428511\n",
      "0.39585487370867867\n",
      "0.3986163245293639\n",
      "0.412376479571833\n",
      "0.42638020350737094\n",
      "0.4421369929858301\n",
      "0.47555525312020563\n",
      "0.479348921250633\n",
      "0.49283027555296144\n"
     ]
    }
   ],
   "source": [
    "pointList.stream()\n",
    "//       .peek(System.out::println)\n",
    "      .filter(pt -> pt.getX() > 0)\n",
    "      .mapToDouble(Point::getX)\n",
    "      .sorted()\n",
    "      .limit(50)\n",
    "      .forEach(System.out::println);"
   ]
  },
  {
   "cell_type": "markdown",
   "metadata": {},
   "source": [
    "In the code above, what is the role of the `peek` statement, and what does it do?"
   ]
  },
  {
   "cell_type": "markdown",
   "metadata": {},
   "source": [
    "Done with Lists & Streams!"
   ]
  },
  {
   "cell_type": "code",
   "execution_count": null,
   "metadata": {},
   "outputs": [],
   "source": []
  }
 ],
 "metadata": {
  "kernelspec": {
   "display_name": "Java",
   "language": "java",
   "name": "java"
  },
  "language_info": {
   "codemirror_mode": "java",
   "file_extension": ".jshell",
   "mimetype": "text/x-java-source",
   "name": "Java",
   "pygments_lexer": "java",
   "version": "11.0.8+10-LTS"
  }
 },
 "nbformat": 4,
 "nbformat_minor": 4
}
