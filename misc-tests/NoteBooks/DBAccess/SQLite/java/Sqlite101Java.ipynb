{
 "cells": [
  {
   "cell_type": "markdown",
   "id": "bc89b742",
   "metadata": {},
   "source": [
    "# SQLite DB Access\n",
    "Basic access to a SQLite database, through JDBC."
   ]
  },
  {
   "cell_type": "markdown",
   "id": "3d2970c2",
   "metadata": {},
   "source": [
    "### Using Maven to get to the JDBC driver"
   ]
  },
  {
   "cell_type": "code",
   "execution_count": 1,
   "id": "2bc7b6e7",
   "metadata": {},
   "outputs": [
    {
     "name": "stdout",
     "output_type": "stream",
     "text": [
      "HTTP Proxy: null\n",
      "HTTPS Proxy: null\n"
     ]
    }
   ],
   "source": [
    "// Proxy settings\n",
    "System.out.println(String.format(\"HTTP Proxy: %s\", System.getProperty(\"HTTP_PROXY\")));\n",
    "System.out.println(String.format(\"HTTPS Proxy: %s\", System.getProperty(\"HTTPS_PROXY\")));"
   ]
  },
  {
   "cell_type": "code",
   "execution_count": 2,
   "id": "ce9c0a4e",
   "metadata": {},
   "outputs": [],
   "source": [
    "%maven org.xerial:sqlite-jdbc:3.34.0"
   ]
  },
  {
   "cell_type": "code",
   "execution_count": 3,
   "id": "036fbb76",
   "metadata": {},
   "outputs": [],
   "source": [
    "import java.sql.Connection;\n",
    "import java.sql.DriverManager;\n",
    "import java.sql.Driver;\n",
    "import java.sql.DatabaseMetaData;\n",
    "import java.sql.PreparedStatement;\n",
    "import java.sql.ResultSet;\n",
    "import java.sql.ResultSetMetaData;\n",
    "import java.sql.Statement;\n",
    "import java.sql.SQLException;\n",
    "import java.util.stream.Collectors;"
   ]
  },
  {
   "cell_type": "code",
   "execution_count": 4,
   "id": "b8f3286d",
   "metadata": {},
   "outputs": [
    {
     "name": "stdout",
     "output_type": "stream",
     "text": [
      "Connected to the database\n",
      "Driver name: SQLite JDBC\n",
      "Driver version: 3.34.0\n",
      "Product name: SQLite\n",
      "Product version: 3.34.0\n"
     ]
    }
   ],
   "source": [
    "Connection connection;\n",
    "try {\n",
    "    Class.forName(\"org.sqlite.JDBC\");\n",
    "    String dbURL = \"jdbc:sqlite:../../../../oliv.db\"; // oliv.db: db file location on the machine jupyter runs on.\n",
    "    connection = DriverManager.getConnection(dbURL);\n",
    "    if (connection != null) {\n",
    "        System.out.println(\"Connected to the database\");\n",
    "        DatabaseMetaData md = connection.getMetaData();\n",
    "        System.out.println(\"Driver name: \" + md.getDriverName());\n",
    "        System.out.println(\"Driver version: \" + md.getDriverVersion());\n",
    "        System.out.println(\"Product name: \" + md.getDatabaseProductName());\n",
    "        System.out.println(\"Product version: \" + md.getDatabaseProductVersion());\n",
    "    }\n",
    "} catch (ClassNotFoundException ex) {\n",
    "    ex.printStackTrace();\n",
    "} catch (SQLException ex) {\n",
    "    ex.printStackTrace();\n",
    "}\n"
   ]
  },
  {
   "cell_type": "code",
   "execution_count": 5,
   "id": "8a8e8fbc",
   "metadata": {},
   "outputs": [],
   "source": [
    "String sqlStmt = \"SELECT * FROM OLIV_TABLE\";"
   ]
  },
  {
   "cell_type": "code",
   "execution_count": 6,
   "id": "c3af5e23",
   "metadata": {},
   "outputs": [],
   "source": [
    "ResultSet rs;\n",
    "PreparedStatement preparedStatement = null;\n",
    "Statement statement = null;"
   ]
  },
  {
   "cell_type": "code",
   "execution_count": 7,
   "id": "97a101e2",
   "metadata": {},
   "outputs": [],
   "source": [
    "statement = connection.createStatement();\n",
    "rs = statement.executeQuery(sqlStmt);"
   ]
  },
  {
   "cell_type": "code",
   "execution_count": 8,
   "id": "9b06e773",
   "metadata": {},
   "outputs": [
    {
     "name": "stdout",
     "output_type": "stream",
     "text": [
      "Returned 3 columns\n"
     ]
    }
   ],
   "source": [
    "ResultSetMetaData metaData = rs.getMetaData();\n",
    "int columnCount = metaData.getColumnCount();\n",
    "System.out.println(String.format(\"Returned %d columns\", columnCount));"
   ]
  },
  {
   "cell_type": "code",
   "execution_count": 9,
   "id": "4ca1554a",
   "metadata": {},
   "outputs": [
    {
     "name": "stdout",
     "output_type": "stream",
     "text": [
      "Row #1, id: 1\n",
      "Row #1, data: Hi there\n",
      "Row #1, date: 2021-03-29 14:37:16\n"
     ]
    }
   ],
   "source": [
    "int nbRows = 0;\n",
    "while (rs.next()) {\n",
    "    nbRows++;\n",
    "    for (int i = 0; i < columnCount; i++) {\n",
    "        String colName = metaData.getColumnName(i + 1);\n",
    "        Object colValue = rs.getObject(i+1);\n",
    "        System.out.println(String.format(\"Row #%d, %s: %s\", nbRows, colName, colValue));\n",
    "    }\n",
    "}"
   ]
  },
  {
   "cell_type": "markdown",
   "id": "d36046ad",
   "metadata": {},
   "source": [
    "_Done with the Query_  \n",
    "Closing resources.  \n",
    "> Note: This could very well be done - in Java - with a `try with resources`.   \n",
    "> This is done explicitely here, for clarity."
   ]
  },
  {
   "cell_type": "code",
   "execution_count": 10,
   "id": "2d36637a",
   "metadata": {},
   "outputs": [],
   "source": [
    "rs.close();\n",
    "statement.close();"
   ]
  },
  {
   "cell_type": "markdown",
   "id": "c373fa5a",
   "metadata": {},
   "source": [
    "**Using a `try with Resources`, as an example**"
   ]
  },
  {
   "cell_type": "code",
   "execution_count": 11,
   "id": "e9b10fb2",
   "metadata": {},
   "outputs": [
    {
     "name": "stdout",
     "output_type": "stream",
     "text": [
      "1, Hi there, 2021-03-29 14:37:16\n"
     ]
    }
   ],
   "source": [
    "try (Statement statement = connection.createStatement()) {\n",
    "    try (ResultSet resultSet = statement.executeQuery(\"SELECT * FROM OLIV_TABLE\")) {\n",
    "\n",
    "        ResultSetMetaData metaData = resultSet.getMetaData();\n",
    "        int columnCount = metaData.getColumnCount();\n",
    "\n",
    "        while (resultSet.next()) {\n",
    "\n",
    "            List<Object> oneRow = new ArrayList<>();\n",
    "            for (int i = 0; i < columnCount; i++) {\n",
    "                oneRow.add(resultSet.getObject(i + 1));\n",
    "            }\n",
    "            System.out.println(oneRow.stream().map(obj -> String.valueOf(obj)).collect(Collectors.joining(\", \")));\n",
    "        }\n",
    "    }\n",
    "}"
   ]
  },
  {
   "cell_type": "code",
   "execution_count": 12,
   "id": "c7da33ab",
   "metadata": {},
   "outputs": [
    {
     "name": "stdout",
     "output_type": "stream",
     "text": [
      "Bye\n"
     ]
    }
   ],
   "source": [
    "connection.close();\n",
    "System.out.println(\"Bye\");"
   ]
  },
  {
   "cell_type": "markdown",
   "id": "c9b02e68",
   "metadata": {},
   "source": [
    "---"
   ]
  },
  {
   "cell_type": "code",
   "execution_count": null,
   "id": "4e56c72d",
   "metadata": {},
   "outputs": [],
   "source": []
  }
 ],
 "metadata": {
  "kernelspec": {
   "display_name": "Java",
   "language": "java",
   "name": "java"
  },
  "language_info": {
   "codemirror_mode": "java",
   "file_extension": ".jshell",
   "mimetype": "text/x-java-source",
   "name": "Java",
   "pygments_lexer": "java",
   "version": "11.0.8+10-LTS"
  }
 },
 "nbformat": 4,
 "nbformat_minor": 5
}
