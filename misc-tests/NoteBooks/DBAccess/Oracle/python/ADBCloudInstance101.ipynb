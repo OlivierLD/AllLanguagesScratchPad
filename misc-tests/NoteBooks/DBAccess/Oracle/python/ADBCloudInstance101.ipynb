{
 "cells": [
  {
   "cell_type": "markdown",
   "id": "8ae76512",
   "metadata": {},
   "source": [
    "# Oracle Autonomous DB Access from Python"
   ]
  },
  {
   "cell_type": "markdown",
   "id": "becce50d",
   "metadata": {},
   "source": [
    "Oracle ADB access\n",
    "\n",
    "_This is a first basic test, that requires a `RACES` user to exist in your account (see below)_\n",
    "\n",
    "Important: Install InstantClient on your system:\n",
    "- See <https://www.oracle.com/database/technologies/appdev/python/quickstartpython.html#second-option-tab>\n",
    "- Use the DMG approach on MacOS\n",
    "\n",
    "Copy the unzipped wallet in <...>/Downloads/instantclient_19_8/network/admin\n",
    "```\n",
    "mv Wallet_*.zip $HOME/Downloads/instantclient_19_8/network/admin\n",
    "cd $HOME/Downloads/instantclient_19_8/network/admin\n",
    "unzip Wallet_*.zip\n",
    "```"
   ]
  },
  {
   "cell_type": "code",
   "execution_count": 1,
   "id": "ec0d8103",
   "metadata": {},
   "outputs": [
    {
     "name": "stdout",
     "output_type": "stream",
     "text": [
      "Requirement already satisfied: cx_Oracle in /Users/olivierlediouris/Library/Python/3.9/lib/python/site-packages (8.2.1)\n",
      "\u001b[33mWARNING: You are using pip version 21.1.3; however, version 21.2.4 is available.\n",
      "You should consider upgrading via the '/usr/local/Cellar/jupyterlab/3.1.7/libexec/bin/python3.9 -m pip install --upgrade pip' command.\u001b[0m\n",
      "Note: you may need to restart the kernel to use updated packages.\n"
     ]
    }
   ],
   "source": [
    "%pip install cx_Oracle --upgrade --user"
   ]
  },
  {
   "cell_type": "markdown",
   "id": "d6c69d0c",
   "metadata": {},
   "source": [
    "Import, for the `type` instructions below"
   ]
  },
  {
   "cell_type": "code",
   "execution_count": 2,
   "id": "5387aae4",
   "metadata": {},
   "outputs": [],
   "source": [
    "from typing import List"
   ]
  },
  {
   "cell_type": "markdown",
   "id": "a31b21c8",
   "metadata": {},
   "source": [
    "The heart of the thing"
   ]
  },
  {
   "cell_type": "code",
   "execution_count": 3,
   "id": "941870dd",
   "metadata": {},
   "outputs": [],
   "source": [
    "import cx_Oracle"
   ]
  },
  {
   "cell_type": "code",
   "execution_count": 4,
   "id": "69d9a4f0",
   "metadata": {},
   "outputs": [],
   "source": [
    "# path to libclntsh, on the machine the Jupyter runs on.\n",
    "cx_Oracle.init_oracle_client(lib_dir=r\"/Users/olivierlediouris/Downloads/instantclient_19_8\")"
   ]
  },
  {
   "cell_type": "code",
   "execution_count": 5,
   "id": "6483f6a7",
   "metadata": {},
   "outputs": [],
   "source": [
    "connection : cx_Oracle.Connection = cx_Oracle.connect(user=\"RACES\", password=\"AkeuCoucou_1\", dsn=\"olivdbone_medium\")\n",
    "# print(f\"Connection is a {type(connection)}\")"
   ]
  },
  {
   "cell_type": "markdown",
   "id": "59c9e763",
   "metadata": {},
   "source": [
    "Now, we're connected, let's do some stuff."
   ]
  },
  {
   "cell_type": "code",
   "execution_count": 6,
   "id": "09851965",
   "metadata": {},
   "outputs": [
    {
     "name": "stdout",
     "output_type": "stream",
     "text": [
      "Row #1: (1, 'First')\n",
      "Row #2: (2, 'Second')\n",
      "Row #3: (3, 'Third')\n",
      "Row #4: (4, 'Fourth')\n",
      "Row #5: (5, 'Fifth')\n",
      "Row #6: (6, 'Sixth')\n",
      "Row #7: (7, 'Seventh')\n"
     ]
    }
   ],
   "source": [
    "cursor : cx_Oracle.Cursor = connection.cursor()\n",
    "# print(f\"Cursor is a {type(cursor)}\")\n",
    "\n",
    "# Create a table\n",
    "\n",
    "cursor.execute(\"\"\"begin\n",
    "                     execute immediate 'drop table pytab';\n",
    "                     exception \n",
    "                        when others then \n",
    "                           if sqlcode <> -942 then \n",
    "                              raise; \n",
    "                           end if;\n",
    "                  end;\"\"\")\n",
    "cursor.execute(\"create table pytab (id number, data varchar2(20))\")\n",
    "\n",
    "# Insert some rows\n",
    "\n",
    "rows : List[tuple] = [ \n",
    "         (1, \"First\" ),\n",
    "         (2, \"Second\" ),\n",
    "         (3, \"Third\" ),\n",
    "         (4, \"Fourth\" ),\n",
    "         (5, \"Fifth\" ),\n",
    "         (6, \"Sixth\" ),\n",
    "         (7, \"Seventh\" ) ]\n",
    "# print(f\"Rows is a {type(rows)}\")\n",
    "# print(f\"Rows[0] is a {type(rows[0])}\")\n",
    "\n",
    "cursor.executemany(\"insert into pytab(id, data) values (:1, :2)\", rows)\n",
    "\n",
    "# connection.commit()  # uncomment to make data persistent\n",
    "\n",
    "# Now query the rows back\n",
    "\n",
    "nb_rows: int = 0\n",
    "for row in cursor.execute('select * from pytab'):\n",
    "    nb_rows += 1\n",
    "    print(f\"Row #{nb_rows}: {row}\")"
   ]
  },
  {
   "cell_type": "markdown",
   "id": "58a6959e",
   "metadata": {},
   "source": [
    "That's it.\n",
    "- You got connected\n",
    "- You created a table\n",
    "- Populated it\n",
    "- Queried it"
   ]
  },
  {
   "cell_type": "code",
   "execution_count": null,
   "id": "9f5f646c",
   "metadata": {},
   "outputs": [],
   "source": []
  }
 ],
 "metadata": {
  "kernelspec": {
   "display_name": "Python 3 (ipykernel)",
   "language": "python",
   "name": "python3"
  },
  "language_info": {
   "codemirror_mode": {
    "name": "ipython",
    "version": 3
   },
   "file_extension": ".py",
   "mimetype": "text/x-python",
   "name": "python",
   "nbconvert_exporter": "python",
   "pygments_lexer": "ipython3",
   "version": "3.8.2"
  }
 },
 "nbformat": 4,
 "nbformat_minor": 5
}
