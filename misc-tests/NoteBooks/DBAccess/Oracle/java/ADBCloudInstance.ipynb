{
 "cells": [
  {
   "cell_type": "markdown",
   "id": "bc89b742",
   "metadata": {},
   "source": [
    "# Oracle DB Access"
   ]
  },
  {
   "cell_type": "markdown",
   "id": "2f2a4ccd",
   "metadata": {},
   "source": [
    "## Autonomous DB, in the Cloud"
   ]
  },
  {
   "cell_type": "markdown",
   "id": "26078a63",
   "metadata": {},
   "source": [
    "For this Notebook, you need to have an Oracle Account (which is free).\n",
    "\n",
    "And you need to have created a `RACES` User, as reqiured below.\n",
    "\n",
    "- Get your Oracle Autonomous DataBase in the Cloud for free: <https://oracle.github.io/learning-library/data-management-library/autonomous-database/shared/adb-quickstart-workshop/freetier/>\n",
    "- JDBC on ATP or ADW: <https://www.oracle.com/database/technologies/java-connectivity-to-atp.html>\n",
    "- Oracle DB Code samples repo: <https://github.com/oracle/oracle-db-examples>\n",
    "\n",
    "Log on to your account using <http://cloud.oracle.com>\n",
    "Then go to your instance, and go to the `Tools` tab.\n",
    "![Tools](./adw.png)\n",
    "\n",
    "**Database Actions** will take your where you want to be.\n"
   ]
  },
  {
   "cell_type": "markdown",
   "id": "3d2970c2",
   "metadata": {},
   "source": [
    "### Using Maven to get to the JDBC driver"
   ]
  },
  {
   "cell_type": "code",
   "execution_count": 1,
   "id": "2bc7b6e7",
   "metadata": {},
   "outputs": [
    {
     "name": "stdout",
     "output_type": "stream",
     "text": [
      "HTTP Proxy: null\n",
      "HTTPS Proxy: null\n"
     ]
    }
   ],
   "source": [
    "// Proxy settings\n",
    "System.out.println(String.format(\"HTTP Proxy: %s\", System.getProperty(\"HTTP_PROXY\")));\n",
    "System.out.println(String.format(\"HTTPS Proxy: %s\", System.getProperty(\"HTTPS_PROXY\")));"
   ]
  },
  {
   "cell_type": "markdown",
   "id": "0063faba",
   "metadata": {},
   "source": [
    "**Driver version is important, make sure you get at least that one:**"
   ]
  },
  {
   "cell_type": "code",
   "execution_count": 2,
   "id": "ce9c0a4e",
   "metadata": {},
   "outputs": [],
   "source": [
    "// %maven com.oracle.database.jdbc:ojdbc10:19.12.0.0\n",
    "%maven com.oracle.database.jdbc:ojdbc8-production:21.1.0.0"
   ]
  },
  {
   "cell_type": "code",
   "execution_count": 3,
   "id": "036fbb76",
   "metadata": {},
   "outputs": [],
   "source": [
    "import java.sql.Connection;\n",
    "import java.sql.DriverManager;\n",
    "import java.sql.Driver;\n",
    "import java.sql.PreparedStatement;\n",
    "import java.sql.ResultSet;\n",
    "import java.sql.ResultSetMetaData;\n",
    "import java.sql.Statement;\n",
    "import java.sql.SQLException;\n",
    "\n",
    "import oracle.jdbc.OracleConnection;\n",
    "import oracle.jdbc.pool.OracleDataSource;\n",
    "import java.sql.DatabaseMetaData;\n",
    "\n",
    "import java.util.ArrayList;\n",
    "import java.util.Arrays;\n",
    "import java.util.List;\n",
    "import java.util.Properties;\n",
    "import java.util.stream.Collectors;"
   ]
  },
  {
   "cell_type": "code",
   "execution_count": 4,
   "id": "b8f3286d",
   "metadata": {},
   "outputs": [],
   "source": [
    "// For ATP and ADW - use the TNS Alias name along with the TNS_ADMIN when using 18.3 JDBC driver\n",
    "final static String WALLET_PATH = \"/Users/olivierlediouris/Wallet_OlivDBOne\"; // This is on the machine this code is running on.\n",
    "final static String TNS_NAME = \"olivdbone_medium\"; // From tnsname.ora, in the wallet folder.\n",
    "\n",
    "// This user must have been created before running this code.\n",
    "final static String DB_USER = \"RACES\";\n",
    "final static String DB_PASSWORD = \"AkeuCoucou_1\";\n",
    "\n",
    "// Insert statements\n",
    "static String[] insertStmt = new String[] {\n",
    "        \"INSERT INTO TRACK VALUES (1, 'Auto Club Speedway', 'Fontana, CA', 92000, 1997)\",\n",
    "        \"INSERT INTO TRACK VALUES (2, 'Chicagoland Speedway','Joliet, IL',75000,2001)\",\n",
    "        \"INSERT INTO TRACK VALUES (3, 'Darlington Raceway','Darlington, SC',63000,1950)\",\n",
    "        \"INSERT INTO TRACK VALUES (4, 'Daytona International Speedway','Daytona Beach, FL',168000,1959)\",\n",
    "        \"INSERT INTO TRACK VALUES (5, 'Homestead-Miami Speedway','Homestead, FL',65000,1995)\",\n",
    "        \"INSERT INTO TRACK VALUES (6, 'Kansas Speedway','Kansas City, KS',81687,2001)\",\n",
    "        \"INSERT INTO TRACK VALUES (7, 'Martinsville Speedway','Ridgeway, VA',65000,1947)\",\n",
    "        \"INSERT INTO TRACK VALUES (8, 'Michigan International Speedway','Brooklyn, MI',137243,1968)\",\n",
    "        \"INSERT INTO TRACK VALUES (9, 'Phoenix International Raceway','Avondale, AZ',76812,1964)\",\n",
    "\n",
    "        \"INSERT INTO  RACE VALUES (1, 'Rolex 24 At Daytona','DP/GT','January 26 January 27',1)\",\n",
    "        \"INSERT INTO  RACE VALUES (2, 'Gainsco Grand Prix of Miami','DP/GT','March 29',2)\",\n",
    "        \"INSERT INTO  RACE VALUES (3, 'Mexico City 250','DP/GT','April 19',2)\",\n",
    "        \"INSERT INTO  RACE VALUES (4, 'Bosch Engineering 250 at VIR','GT','April 27',4)\",\n",
    "        \"INSERT INTO  RACE VALUES (5, 'RumBum.com 250','DP/GT','May 17',5)\",\n",
    "        \"INSERT INTO  RACE VALUES (6, 'Lime Rock GT Classic 250','GT','May 26',6)\",\n",
    "        \"INSERT INTO  RACE VALUES (7, 'Sahlen''s Six Hours of the Glen','DP/GT','June 7',7)\"\n",
    "};"
   ]
  },
  {
   "cell_type": "code",
   "execution_count": 5,
   "id": "4fa96429",
   "metadata": {},
   "outputs": [],
   "source": [
    "void executeStatement(String sql, Connection connection) throws SQLException {\n",
    "    try (Statement statement = connection.createStatement()) {\n",
    "        statement.executeUpdate(sql);\n",
    "    } // Will close statement\n",
    "}"
   ]
  },
  {
   "cell_type": "code",
   "execution_count": 6,
   "id": "a70fc809",
   "metadata": {},
   "outputs": [],
   "source": [
    "void executeQuery(String sql, Connection connection) throws SQLException {\n",
    "    executeQuery(sql, connection, false);\n",
    "}\n",
    "void executeQuery(String sql, Connection connection, boolean filtered) throws SQLException {\n",
    "    try (Statement statement = connection.createStatement()) {\n",
    "        try (ResultSet resultSet = statement.executeQuery(sql)) {\n",
    "\n",
    "            ResultSetMetaData metaData = resultSet.getMetaData();\n",
    "            int columnCount = metaData.getColumnCount();\n",
    "\n",
    "            while (resultSet.next()) {\n",
    "                List<Object> oneRow = new ArrayList<>();\n",
    "                for (int i = 0; i < columnCount; i++) {\n",
    "                    oneRow.add(resultSet.getObject(i + 1));\n",
    "                }\n",
    "                if (!filtered || (filtered && !((String)oneRow.get(0)).startsWith(\"BIN$\"))) {\n",
    "                    System.out.println(oneRow.stream().map(obj -> String.valueOf(obj)).collect(Collectors.joining(\", \")));\n",
    "                }\n",
    "            }\n",
    "        } // Will close result set\n",
    "    } // Will close statement\n",
    "}"
   ]
  },
  {
   "cell_type": "code",
   "execution_count": 7,
   "id": "0d9a3410",
   "metadata": {},
   "outputs": [
    {
     "name": "stdout",
     "output_type": "stream",
     "text": [
      "Connecting using jdbc:oracle:thin:@olivdbone_medium?TNS_ADMIN=/Users/olivierlediouris/Wallet_OlivDBOne ...\n"
     ]
    }
   ],
   "source": [
    "Properties info = new Properties();\n",
    "info.put(OracleConnection.CONNECTION_PROPERTY_USER_NAME, DB_USER);\n",
    "info.put(OracleConnection.CONNECTION_PROPERTY_PASSWORD, DB_PASSWORD);\n",
    "info.put(OracleConnection.CONNECTION_PROPERTY_DEFAULT_ROW_PREFETCH, \"20\");\n",
    "\n",
    "String dbURL = String.format(\"jdbc:oracle:thin:@%s?TNS_ADMIN=%s\", TNS_NAME, WALLET_PATH);\n",
    "System.out.println(String.format(\"Connecting using %s ...\", dbURL));\n",
    "\n",
    "OracleDataSource ods = new OracleDataSource();\n",
    "ods.setURL(dbURL);\n",
    "ods.setConnectionProperties(info);\n"
   ]
  },
  {
   "cell_type": "code",
   "execution_count": 8,
   "id": "8a8e8fbc",
   "metadata": {},
   "outputs": [],
   "source": [
    "OracleConnection connection = (OracleConnection) ods.getConnection();"
   ]
  },
  {
   "cell_type": "code",
   "execution_count": 9,
   "id": "2d281392",
   "metadata": {},
   "outputs": [
    {
     "name": "stdout",
     "output_type": "stream",
     "text": [
      "Driver Name: Oracle JDBC driver\n",
      "Driver Version: 21.1.0.0.0\n",
      "Default Row Prefetch Value is: 20\n",
      "Database Username is: RACES\n"
     ]
    }
   ],
   "source": [
    "// Get the JDBC driver name and version\n",
    "DatabaseMetaData dbmd = connection.getMetaData();\n",
    "System.out.println(\"Driver Name: \" + dbmd.getDriverName());\n",
    "System.out.println(\"Driver Version: \" + dbmd.getDriverVersion());\n",
    "// Print some connection properties\n",
    "System.out.println(\"Default Row Prefetch Value is: \" + connection.getDefaultRowPrefetch());\n",
    "System.out.println(\"Database Username is: \" + connection.getUserName());"
   ]
  },
  {
   "cell_type": "markdown",
   "id": "93b493e6",
   "metadata": {},
   "source": [
    "#### Part One, drop and re-create tables and constraints"
   ]
  },
  {
   "cell_type": "code",
   "execution_count": 10,
   "id": "d6ced13e",
   "metadata": {},
   "outputs": [],
   "source": [
    "try {\n",
    "    executeStatement(\"DROP TABLE RACE\", connection);\n",
    "} catch (SQLException sqlEx) {\n",
    "    sqlEx.printStackTrace();\n",
    "}"
   ]
  },
  {
   "cell_type": "code",
   "execution_count": 11,
   "id": "1a8f868a",
   "metadata": {},
   "outputs": [],
   "source": [
    "try {\n",
    "    executeStatement(\"DROP TABLE TRACK\", connection);\n",
    "} catch (SQLException sqlEx) {\n",
    "    sqlEx.printStackTrace();\n",
    "}"
   ]
  },
  {
   "cell_type": "code",
   "execution_count": 12,
   "id": "d00e1bec",
   "metadata": {},
   "outputs": [],
   "source": [
    "try {\n",
    "    executeStatement(\"CREATE TABLE TRACK (\\n\" +\n",
    "            \"    TRACK_ID NUMBER,\\n\" +\n",
    "            \"    NAME VARCHAR2(48),\\n\" +\n",
    "            \"    LOCATION VARCHAR2(128),\\n\" +\n",
    "            \"    SEATING NUMBER,\\n\" +\n",
    "            \"    YEAR_OPENED NUMBER\\n\" +\n",
    "            \")\", connection);\n",
    "} catch (SQLException sqlEx) {\n",
    "    sqlEx.printStackTrace();\n",
    "}"
   ]
  },
  {
   "cell_type": "code",
   "execution_count": 13,
   "id": "ade1792c",
   "metadata": {},
   "outputs": [],
   "source": [
    "try {\n",
    "    executeStatement(\"ALTER TABLE TRACK ADD CONSTRAINT TRACK_PK PRIMARY KEY(TRACK_ID)\", connection);\n",
    "} catch (SQLException sqlEx) {\n",
    "    sqlEx.printStackTrace();\n",
    "}"
   ]
  },
  {
   "cell_type": "code",
   "execution_count": 14,
   "id": "81a1d823",
   "metadata": {},
   "outputs": [],
   "source": [
    "try {\n",
    "    executeStatement(\"CREATE TABLE RACE (\\n\" +\n",
    "            \"    RACE_ID NUMBER,\\n\" +\n",
    "            \"    NAME VARCHAR2(48),\\n\" +\n",
    "            \"    RACE_CLASS VARCHAR2(12),\\n\" +\n",
    "            \"    RACE_DATE VARCHAR2(64),\\n\" +\n",
    "            \"    TRACK_ID NUMBER\\n\" +\n",
    "            \")\", connection);\n",
    "} catch (SQLException sqlEx) {\n",
    "    sqlEx.printStackTrace();\n",
    "}"
   ]
  },
  {
   "cell_type": "code",
   "execution_count": 15,
   "id": "8792ee5e",
   "metadata": {},
   "outputs": [],
   "source": [
    "try {\n",
    "    executeStatement(\"ALTER TABLE RACE ADD CONSTRAINT RACE_PK PRIMARY KEY(RACE_ID)\", connection);\n",
    "} catch (SQLException sqlEx) {\n",
    "    sqlEx.printStackTrace();\n",
    "}"
   ]
  },
  {
   "cell_type": "code",
   "execution_count": 16,
   "id": "e6b8f3a4",
   "metadata": {},
   "outputs": [],
   "source": [
    "try {\n",
    "    executeStatement(\"ALTER TABLE RACE ADD CONSTRAINT RACE_FK_TRACK FOREIGN KEY (TRACK_ID) REFERENCES TRACK(TRACK_ID) ON DELETE CASCADE\", connection);\n",
    "} catch (SQLException sqlEx) {\n",
    "    sqlEx.printStackTrace();\n",
    "}"
   ]
  },
  {
   "cell_type": "markdown",
   "id": "fae53a18",
   "metadata": {},
   "source": [
    "#### Part two, populate the Schema"
   ]
  },
  {
   "cell_type": "code",
   "execution_count": 17,
   "id": "84e2e98a",
   "metadata": {},
   "outputs": [],
   "source": [
    "connection.setAutoCommit(false); // Default is true"
   ]
  },
  {
   "cell_type": "code",
   "execution_count": 18,
   "id": "03ac8005",
   "metadata": {},
   "outputs": [],
   "source": [
    "Arrays.stream(insertStmt).forEach(stmt -> {\n",
    "    try {\n",
    "        executeStatement(stmt, connection);\n",
    "    } catch (SQLException sqlEx) {\n",
    "        sqlEx.printStackTrace();\n",
    "    }\n",
    "});"
   ]
  },
  {
   "cell_type": "code",
   "execution_count": 19,
   "id": "36e60b7e",
   "metadata": {},
   "outputs": [],
   "source": [
    "// Commit ? If auto commit is off (on by default).\n",
    "connection.commit();"
   ]
  },
  {
   "cell_type": "markdown",
   "id": "e316e9c3",
   "metadata": {},
   "source": [
    "#### Part three, some queries!"
   ]
  },
  {
   "cell_type": "code",
   "execution_count": 20,
   "id": "8fc30e01",
   "metadata": {},
   "outputs": [],
   "source": [
    "String sqlSelect;"
   ]
  },
  {
   "cell_type": "code",
   "execution_count": 21,
   "id": "b7324169",
   "metadata": {},
   "outputs": [
    {
     "name": "stdout",
     "output_type": "stream",
     "text": [
      "Tables:\n",
      "PYTAB, TABLE, null\n",
      "RACE, TABLE, null\n",
      "TRACK, TABLE, null\n",
      "----------------\n"
     ]
    }
   ],
   "source": [
    "sqlSelect = \"SELECT * FROM TAB\";\n",
    "System.out.println(\"Tables:\");\n",
    "executeQuery(sqlSelect, connection, true); // Filter on BIN$*\n",
    "System.out.println(\"----------------\");"
   ]
  },
  {
   "cell_type": "code",
   "execution_count": 22,
   "id": "3e670145",
   "metadata": {},
   "outputs": [
    {
     "name": "stdout",
     "output_type": "stream",
     "text": [
      "A Query: SELECT track.name, COUNT(race.race_id), COUNT(*) FROM race JOIN track ON track.Track_ID = race.Track_ID GROUP BY track.name HAVING COUNT(race.race_id) > 1\n",
      "----------------\n",
      "Chicagoland Speedway, 2, 2\n",
      "----------------\n"
     ]
    }
   ],
   "source": [
    "sqlSelect = \"SELECT track.name, \" +\n",
    "        \"COUNT(race.race_id), \" +\n",
    "        \"COUNT(*) FROM race \" +\n",
    "        \"JOIN track ON track.Track_ID = race.Track_ID \" +\n",
    "        \"GROUP BY track.name \" +\n",
    "        \"HAVING COUNT(race.race_id) > 1\";\n",
    "\n",
    "System.out.println(String.format(\"A Query: %s\", sqlSelect));\n",
    "System.out.println(\"----------------\");\n",
    "executeQuery(sqlSelect, connection);\n",
    "System.out.println(\"----------------\");"
   ]
  },
  {
   "cell_type": "markdown",
   "id": "7cc46e7c",
   "metadata": {},
   "source": [
    "Done"
   ]
  },
  {
   "cell_type": "code",
   "execution_count": 23,
   "id": "c7da33ab",
   "metadata": {},
   "outputs": [],
   "source": [
    "if (connection != null) {\n",
    "    connection.close();\n",
    "}"
   ]
  },
  {
   "cell_type": "markdown",
   "id": "9e56f511",
   "metadata": {},
   "source": [
    "Bye!"
   ]
  },
  {
   "cell_type": "markdown",
   "id": "c9b02e68",
   "metadata": {},
   "source": [
    "---"
   ]
  },
  {
   "cell_type": "code",
   "execution_count": null,
   "id": "4e56c72d",
   "metadata": {},
   "outputs": [],
   "source": []
  }
 ],
 "metadata": {
  "kernelspec": {
   "display_name": "Java",
   "language": "java",
   "name": "java"
  },
  "language_info": {
   "codemirror_mode": "java",
   "file_extension": ".jshell",
   "mimetype": "text/x-java-source",
   "name": "Java",
   "pygments_lexer": "java",
   "version": "11.0.8+10-LTS"
  }
 },
 "nbformat": 4,
 "nbformat_minor": 5
}
