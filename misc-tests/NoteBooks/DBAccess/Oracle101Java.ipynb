{
 "cells": [
  {
   "cell_type": "markdown",
   "id": "bc89b742",
   "metadata": {},
   "source": [
    "# Oracle DB Access\n",
    "Basic access to an Oracle Database with JDBC,  \n",
    "using a url like `jdbc:oracle:thin:@//100.111.136.104:1521/BOTS.localdomain`."
   ]
  },
  {
   "cell_type": "markdown",
   "id": "3d2970c2",
   "metadata": {},
   "source": [
    "### Using Maven to get to the JDBC driver"
   ]
  },
  {
   "cell_type": "code",
   "execution_count": 1,
   "id": "2bc7b6e7",
   "metadata": {},
   "outputs": [
    {
     "name": "stdout",
     "output_type": "stream",
     "text": [
      "HTTP Proxy: null\n",
      "HTTPS Proxy: null\n"
     ]
    }
   ],
   "source": [
    "// Proxy settings\n",
    "System.out.println(String.format(\"HTTP Proxy: %s\", System.getProperty(\"HTTP_PROXY\")));\n",
    "System.out.println(String.format(\"HTTPS Proxy: %s\", System.getProperty(\"HTTPS_PROXY\")));"
   ]
  },
  {
   "cell_type": "code",
   "execution_count": 2,
   "id": "ce9c0a4e",
   "metadata": {},
   "outputs": [],
   "source": [
    "// %maven com.oracle:ojdbc14:10.2.0.2.0\n",
    "%maven com.oracle.database.jdbc:ojdbc10:19.12.0.0\n",
    "// %maven com.oracle.jdbc:ojdbc8:19.3.0.0.9"
   ]
  },
  {
   "cell_type": "code",
   "execution_count": 3,
   "id": "036fbb76",
   "metadata": {},
   "outputs": [],
   "source": [
    "import java.sql.Connection;\n",
    "import java.sql.DriverManager;\n",
    "import java.sql.Driver;\n",
    "import java.sql.PreparedStatement;\n",
    "import java.sql.ResultSet;\n",
    "import java.sql.ResultSetMetaData;\n",
    "import java.sql.Statement;\n",
    "import java.util.stream.Collectors;"
   ]
  },
  {
   "cell_type": "code",
   "execution_count": 4,
   "id": "b8f3286d",
   "metadata": {},
   "outputs": [],
   "source": [
    "final static String JDBC_HOSTNAME = \"100.111.136.104\";\n",
    "final static int JDBC_PORT = 1521;\n",
    "final static String JDBC_SERVICE_NAME = \"BOTS.localdomain\";\n",
    "\n",
    "final static String USERNAME = \"races\";\n",
    "final static String PASSWORD = \"racesracesracesraces\";"
   ]
  },
  {
   "cell_type": "code",
   "execution_count": 5,
   "id": "0d9a3410",
   "metadata": {},
   "outputs": [
    {
     "name": "stdout",
     "output_type": "stream",
     "text": [
      ">> Driver loaded\n",
      "Version 19.12\n",
      "Connecting with [jdbc:oracle:thin:@//100.111.136.104:1521/BOTS.localdomain]\n",
      ">> Connected\n"
     ]
    }
   ],
   "source": [
    "String jdbcUrl = String.format(\"jdbc:oracle:thin:@//%s:%d/%s\",\n",
    "                                JDBC_HOSTNAME,\n",
    "                                JDBC_PORT,\n",
    "                                JDBC_SERVICE_NAME);\n",
    "\n",
    "try {\n",
    "    Class.forName(\"oracle.jdbc.driver.OracleDriver\");\n",
    "    System.out.println(\">> Driver loaded\");\n",
    "    Enumeration<Driver> drivers = DriverManager.getDrivers();\n",
    "    while (drivers.hasMoreElements()) {\n",
    "        Driver driver = drivers.nextElement();\n",
    "        System.out.println(String.format(\"Version %d.%d\", driver.getMajorVersion(), driver.getMinorVersion()));\n",
    "    }\n",
    "} catch (ClassNotFoundException cnfe) {\n",
    "    cnfe.printStackTrace();\n",
    "}\n",
    "\n",
    "System.out.printf(\"Connecting with [%s]\\n\", jdbcUrl);\n",
    "Connection connection = DriverManager.getConnection(jdbcUrl, USERNAME, PASSWORD);\n",
    "System.out.println(\">> Connected\");\n"
   ]
  },
  {
   "cell_type": "code",
   "execution_count": 6,
   "id": "8a8e8fbc",
   "metadata": {},
   "outputs": [],
   "source": [
    "String sqlStmt = \"SELECT * FROM RACE\";"
   ]
  },
  {
   "cell_type": "code",
   "execution_count": 7,
   "id": "c3af5e23",
   "metadata": {},
   "outputs": [],
   "source": [
    "ResultSet rs;\n",
    "PreparedStatement preparedStatement = null;\n",
    "Statement statement = null;"
   ]
  },
  {
   "cell_type": "code",
   "execution_count": 8,
   "id": "97a101e2",
   "metadata": {},
   "outputs": [],
   "source": [
    "statement = connection.createStatement();\n",
    "rs = statement.executeQuery(sqlStmt);"
   ]
  },
  {
   "cell_type": "code",
   "execution_count": 9,
   "id": "9b06e773",
   "metadata": {},
   "outputs": [
    {
     "name": "stdout",
     "output_type": "stream",
     "text": [
      "Returned 5 columns\n"
     ]
    }
   ],
   "source": [
    "ResultSetMetaData metaData = rs.getMetaData();\n",
    "int columnCount = metaData.getColumnCount();\n",
    "System.out.println(String.format(\"Returned %d columns\", columnCount));"
   ]
  },
  {
   "cell_type": "code",
   "execution_count": 10,
   "id": "4ca1554a",
   "metadata": {},
   "outputs": [
    {
     "name": "stdout",
     "output_type": "stream",
     "text": [
      "Row #1, RACE_ID: 1\n",
      "Row #1, NAME: Rolex 24 At Daytona\n",
      "Row #1, RACE_CLASS: DP/GT\n",
      "Row #1, RACE_DATE: January 26 January 27\n",
      "Row #1, TRACK_ID: 1\n",
      "Row #2, RACE_ID: 2\n",
      "Row #2, NAME: Gainsco Grand Prix of Miami\n",
      "Row #2, RACE_CLASS: DP/GT\n",
      "Row #2, RACE_DATE: March 29\n",
      "Row #2, TRACK_ID: 2\n",
      "Row #3, RACE_ID: 3\n",
      "Row #3, NAME: Mexico City 250\n",
      "Row #3, RACE_CLASS: DP/GT\n",
      "Row #3, RACE_DATE: April 19\n",
      "Row #3, TRACK_ID: 2\n",
      "Row #4, RACE_ID: 4\n",
      "Row #4, NAME: Bosch Engineering 250 at VIR\n",
      "Row #4, RACE_CLASS: GT\n",
      "Row #4, RACE_DATE: April 27\n",
      "Row #4, TRACK_ID: 4\n",
      "Row #5, RACE_ID: 5\n",
      "Row #5, NAME: RumBum.com 250\n",
      "Row #5, RACE_CLASS: DP/GT\n",
      "Row #5, RACE_DATE: May 17\n",
      "Row #5, TRACK_ID: 5\n",
      "Row #6, RACE_ID: 6\n",
      "Row #6, NAME: Lime Rock GT Classic 250\n",
      "Row #6, RACE_CLASS: GT\n",
      "Row #6, RACE_DATE: May 26\n",
      "Row #6, TRACK_ID: 6\n",
      "Row #7, RACE_ID: 7\n",
      "Row #7, NAME: Sahlen's Six Hours of the Glen\n",
      "Row #7, RACE_CLASS: DP/GT\n",
      "Row #7, RACE_DATE: June 7\n",
      "Row #7, TRACK_ID: 7\n"
     ]
    }
   ],
   "source": [
    "int nbRows = 0;\n",
    "while (rs.next()) {\n",
    "    nbRows++;\n",
    "    for (int i = 0; i < columnCount; i++) {\n",
    "        String colName = metaData.getColumnName(i + 1);\n",
    "        Object colValue = rs.getObject(i+1);\n",
    "        System.out.println(String.format(\"Row #%d, %s: %s\", nbRows, colName, colValue));\n",
    "    }\n",
    "}"
   ]
  },
  {
   "cell_type": "markdown",
   "id": "84f58eb9",
   "metadata": {},
   "source": [
    "Done with the query, closing resources.  \n",
    "**Note**:  \n",
    "Thnis could be done with a `try with resources`, this is done explicitely here for clarity."
   ]
  },
  {
   "cell_type": "code",
   "execution_count": 11,
   "id": "2d36637a",
   "metadata": {},
   "outputs": [],
   "source": [
    "rs.close();\n",
    "statement.close();"
   ]
  },
  {
   "cell_type": "markdown",
   "id": "01eaff90",
   "metadata": {},
   "source": [
    "Using a `try with resources`, as an example."
   ]
  },
  {
   "cell_type": "code",
   "execution_count": 12,
   "id": "8bc3e7da",
   "metadata": {},
   "outputs": [
    {
     "name": "stdout",
     "output_type": "stream",
     "text": [
      "1, Rolex 24 At Daytona, DP/GT, January 26 January 27, 1\n",
      "2, Gainsco Grand Prix of Miami, DP/GT, March 29, 2\n",
      "3, Mexico City 250, DP/GT, April 19, 2\n",
      "4, Bosch Engineering 250 at VIR, GT, April 27, 4\n",
      "5, RumBum.com 250, DP/GT, May 17, 5\n",
      "6, Lime Rock GT Classic 250, GT, May 26, 6\n",
      "7, Sahlen's Six Hours of the Glen, DP/GT, June 7, 7\n"
     ]
    }
   ],
   "source": [
    "try (Statement statement = connection.createStatement()) {\n",
    "    try (ResultSet resultSet = statement.executeQuery(\"SELECT * FROM RACE\")) {\n",
    "\n",
    "        ResultSetMetaData metaData = resultSet.getMetaData();\n",
    "        int columnCount = metaData.getColumnCount();\n",
    "\n",
    "        while (resultSet.next()) {\n",
    "\n",
    "            List<Object> oneRow = new ArrayList<>();\n",
    "            for (int i = 0; i < columnCount; i++) {\n",
    "                oneRow.add(resultSet.getObject(i + 1));\n",
    "            }\n",
    "            System.out.println(oneRow.stream().map(obj -> String.valueOf(obj)).collect(Collectors.joining(\", \")));\n",
    "        }\n",
    "    }\n",
    "}"
   ]
  },
  {
   "cell_type": "code",
   "execution_count": 13,
   "id": "c7da33ab",
   "metadata": {},
   "outputs": [
    {
     "name": "stdout",
     "output_type": "stream",
     "text": [
      "Bye\n"
     ]
    }
   ],
   "source": [
    "connection.close();\n",
    "System.out.println(\"Bye\");"
   ]
  },
  {
   "cell_type": "markdown",
   "id": "c9b02e68",
   "metadata": {},
   "source": [
    "---"
   ]
  },
  {
   "cell_type": "code",
   "execution_count": null,
   "id": "4e56c72d",
   "metadata": {},
   "outputs": [],
   "source": []
  }
 ],
 "metadata": {
  "kernelspec": {
   "display_name": "Java",
   "language": "java",
   "name": "java"
  },
  "language_info": {
   "codemirror_mode": "java",
   "file_extension": ".jshell",
   "mimetype": "text/x-java-source",
   "name": "Java",
   "pygments_lexer": "java",
   "version": "11.0.8+10-LTS"
  }
 },
 "nbformat": 4,
 "nbformat_minor": 5
}
