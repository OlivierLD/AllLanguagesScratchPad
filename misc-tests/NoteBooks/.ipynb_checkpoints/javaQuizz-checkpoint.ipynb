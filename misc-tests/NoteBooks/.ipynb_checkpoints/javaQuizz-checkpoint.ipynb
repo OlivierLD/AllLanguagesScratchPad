{
 "cells": [
  {
   "cell_type": "markdown",
   "metadata": {},
   "source": [
    "# Java Quizz!\n",
    "\n",
    "#### _Subject_: Lists and Streams"
   ]
  },
  {
   "cell_type": "code",
   "execution_count": 1,
   "metadata": {},
   "outputs": [],
   "source": [
    "import java.text.NumberFormat;\n",
    "import java.util.stream.Collectors;\n",
    "import java.util.stream.DoubleStream;"
   ]
  },
  {
   "cell_type": "markdown",
   "metadata": {},
   "source": [
    "We will create a cloud of points in a 2D space.  \n",
    "Below is the bean describing a Point."
   ]
  },
  {
   "cell_type": "code",
   "execution_count": 2,
   "metadata": {},
   "outputs": [],
   "source": [
    "public static class Point {\n",
    "  double x;\n",
    "  double y;\n",
    "\n",
    "  public Point() {}\n",
    "  public Point(double x, double y) {\n",
    "     this.x = x;\n",
    "     this.y = y;\n",
    "  }\n",
    "\n",
    "  public Point x(double x) {\n",
    "     this.x = x;\n",
    "     return this;\n",
    "  }\n",
    "  public Point y(double y) {\n",
    "     this.y = y;\n",
    "     return this;\n",
    "  }\n",
    "\n",
    "  public double getX() {\n",
    "     return this.x;\n",
    "  }\n",
    "  public double getY() {\n",
    "     return this.y;\n",
    "  }\n",
    "    \n",
    "  @Override\n",
    "  public String toString() {\n",
    "     return String.format(\"x:%f, y:%f\", this.x, this.y);\n",
    "  }  \n",
    "}"
   ]
  },
  {
   "cell_type": "markdown",
   "metadata": {},
   "source": [
    "We define the dimensions of the plan the points will live in, and the number of points to deal with."
   ]
  },
  {
   "cell_type": "code",
   "execution_count": 3,
   "metadata": {},
   "outputs": [],
   "source": [
    "private final static int WIDTH = 100;\n",
    "private final static int HEIGHT = 100;\n",
    "private final static int CARDINALITY = 10_000;"
   ]
  },
  {
   "cell_type": "markdown",
   "metadata": {},
   "source": [
    "## First, we populate a List of Points with random values\n",
    "`x` &isin; `[-50, 50]`  \n",
    "`y` &isin; `[-50, 50]`"
   ]
  },
  {
   "cell_type": "code",
   "execution_count": 4,
   "metadata": {},
   "outputs": [],
   "source": [
    "List<Point> pointList = new ArrayList<>();\n",
    "\n",
    "while (pointList.size() < CARDINALITY) {\n",
    "    pointList.add(new Point(\n",
    "       (WIDTH * Math.random()) - (WIDTH / 2),\n",
    "       (HEIGHT * Math.random()) - (HEIGHT / 2)));\n",
    "}"
   ]
  },
  {
   "cell_type": "markdown",
   "metadata": {},
   "source": [
    "### _Quizz:_ How to get the min and max values, for both X and Y ?"
   ]
  },
  {
   "cell_type": "code",
   "execution_count": 5,
   "metadata": {},
   "outputs": [
    {
     "name": "stdout",
     "output_type": "stream",
     "text": [
      "On 10,000 points:\n",
      "MinX: -49.986172, MaxX: 49.973704, MinY: -49.993995, MaxY: 49.978688\n"
     ]
    },
    {
     "data": {
      "text/plain": [
       "java.io.PrintStream@736eca23"
      ]
     },
     "execution_count": 5,
     "metadata": {},
     "output_type": "execute_result"
    }
   ],
   "source": [
    "double minX = pointList.stream()\n",
    "      .min(Comparator.comparing(Point::getX)) // Compare on that method's output (getX). Could be anything.\n",
    "      .get()\n",
    "      .getX();\n",
    "double maxX = pointList.stream()\n",
    "      .max(Comparator.comparing(Point::getX))\n",
    "      .get()\n",
    "      .getX();\n",
    "double minY = pointList.stream()\n",
    "      .min(Comparator.comparing(Point::getY))\n",
    "      .get()\n",
    "      .getY();\n",
    "double maxY = pointList.stream()\n",
    "      .max(Comparator.comparing(Point::getY))\n",
    "      .get()\n",
    "      .getY();\n",
    "\n",
    "System.out.format(\"On %s points:%n\", NumberFormat.getInstance().format(pointList.size()));\n",
    "System.out.format(\"MinX: %f, MaxX: %f, MinY: %f, MaxY: %f%n\", minX, maxX, minY, maxY);"
   ]
  },
  {
   "cell_type": "markdown",
   "metadata": {},
   "source": [
    "### _Quizz:_ How would you calculate the position of the _AVERAGE_ point in the cloud?"
   ]
  },
  {
   "cell_type": "code",
   "execution_count": 6,
   "metadata": {},
   "outputs": [
    {
     "name": "stdout",
     "output_type": "stream",
     "text": [
      "AvgX: -0.061227, AvgY: -0.353451\n"
     ]
    },
    {
     "data": {
      "text/plain": [
       "java.io.PrintStream@736eca23"
      ]
     },
     "execution_count": 6,
     "metadata": {},
     "output_type": "execute_result"
    }
   ],
   "source": [
    "List<Double> xList = pointList.stream().mapToDouble(Point::getX).boxed().collect(Collectors.toList());\n",
    "List<Double> yList = pointList.stream().mapToDouble(Point::getY).boxed().collect(Collectors.toList());\n",
    "\n",
    "double averageX = pointList.stream()\n",
    "        .mapToDouble(Point::getX)\n",
    "        .average()\n",
    "        .getAsDouble();\n",
    "double averageY = pointList.stream()\n",
    "        .mapToDouble(Point::getY)\n",
    "        .average()\n",
    "        .getAsDouble();\n",
    "\n",
    "System.out.format(\"AvgX: %f, AvgY: %f%n\", averageX, averageY);"
   ]
  },
  {
   "cell_type": "markdown",
   "metadata": {},
   "source": [
    "### _Quizz:_ How would you calculate the Standard Deviation?\n",
    "See what this Standard Deviation is, in case you forgot : <https://www.mathsisfun.com/data/standard-deviation.html>"
   ]
  },
  {
   "cell_type": "code",
   "execution_count": 7,
   "metadata": {},
   "outputs": [],
   "source": [
    "private static double stdDev(List<Double> list) {\n",
    "   double mean = list.stream().mapToDouble(x -> x).average().getAsDouble();\n",
    "   double variance = list.stream().mapToDouble(x -> Math.pow(x - mean, 2)).sum() / list.size();\n",
    "   double stdDev = Math.sqrt(variance);\n",
    "   return stdDev;\n",
    "}"
   ]
  },
  {
   "cell_type": "code",
   "execution_count": 8,
   "metadata": {},
   "outputs": [
    {
     "name": "stdout",
     "output_type": "stream",
     "text": [
      "Std Dev X: 28.967732, Std Dev Y: 28.659098\n"
     ]
    },
    {
     "data": {
      "text/plain": [
       "java.io.PrintStream@736eca23"
      ]
     },
     "execution_count": 8,
     "metadata": {},
     "output_type": "execute_result"
    }
   ],
   "source": [
    "List<Double> xList = pointList.stream().mapToDouble(Point::getX).boxed().collect(Collectors.toList());\n",
    "List<Double> yList = pointList.stream().mapToDouble(Point::getY).boxed().collect(Collectors.toList());\n",
    "\n",
    "double stdDevX = stdDev(xList);\n",
    "double stdDevY = stdDev(yList);\n",
    "System.out.format(\"Std Dev X: %f, Std Dev Y: %f%n\", stdDevX, stdDevY);"
   ]
  },
  {
   "cell_type": "markdown",
   "metadata": {},
   "source": [
    "### _Quizz:_ Sort on X the points where X is positive, and print the first 50 values of X, in _ONE_ line of code."
   ]
  },
  {
   "cell_type": "code",
   "execution_count": 9,
   "metadata": {},
   "outputs": [
    {
     "name": "stdout",
     "output_type": "stream",
     "text": [
      "0.005030692631478928\n",
      "0.007739673716415041\n",
      "0.008504349673209788\n",
      "0.009071504654343698\n",
      "0.011059395565574448\n",
      "0.02889265623470294\n",
      "0.03521882450498737\n",
      "0.05281948290210181\n",
      "0.07651336184804336\n",
      "0.08599024927815435\n",
      "0.08934758893190775\n",
      "0.09016203592927496\n",
      "0.10759424526648331\n",
      "0.12203940626163501\n",
      "0.13017576687918364\n",
      "0.13889399773702138\n",
      "0.16337307544949198\n",
      "0.16337751554031144\n",
      "0.18470547245252789\n",
      "0.18498867988636647\n",
      "0.2027969164793504\n",
      "0.20954201885181334\n",
      "0.21375039798336104\n",
      "0.24153927453445334\n",
      "0.24449558897597967\n",
      "0.25266904919425315\n",
      "0.25643174879233044\n",
      "0.2576176490748452\n",
      "0.26255049570153943\n",
      "0.2756564020327943\n",
      "0.27902671426741676\n",
      "0.2907726215257398\n",
      "0.292377895184579\n",
      "0.3094822316446084\n",
      "0.3118080722901979\n",
      "0.3288290625652479\n",
      "0.3303130783897572\n",
      "0.33721719522834803\n",
      "0.346065204244141\n",
      "0.35113935034416244\n",
      "0.3517730924567388\n",
      "0.3657735370219086\n",
      "0.38894971048124205\n",
      "0.39401299778927523\n",
      "0.4246670724338131\n",
      "0.4382680152967424\n",
      "0.4443549923454313\n",
      "0.452802237248207\n",
      "0.46895530499448057\n",
      "0.4807824572401245\n"
     ]
    }
   ],
   "source": [
    "pointList.stream()\n",
    "//       .peek(System.out::println)\n",
    "      .filter(pt -> pt.getX() > 0)\n",
    "      .mapToDouble(Point::getX)\n",
    "      .sorted()\n",
    "      .limit(50)\n",
    "      .forEach(System.out::println);"
   ]
  },
  {
   "cell_type": "markdown",
   "metadata": {},
   "source": [
    "In the code above, what is the role of the `peek` statement, and what does it do?"
   ]
  },
  {
   "cell_type": "markdown",
   "metadata": {},
   "source": [
    "Done with Lists & Streams!"
   ]
  },
  {
   "cell_type": "code",
   "execution_count": null,
   "metadata": {},
   "outputs": [],
   "source": []
  }
 ],
 "metadata": {
  "kernelspec": {
   "display_name": "Java",
   "language": "java",
   "name": "java"
  },
  "language_info": {
   "codemirror_mode": "java",
   "file_extension": ".jshell",
   "mimetype": "text/x-java-source",
   "name": "Java",
   "pygments_lexer": "java",
   "version": "11.0.8+10-LTS"
  }
 },
 "nbformat": 4,
 "nbformat_minor": 4
}
